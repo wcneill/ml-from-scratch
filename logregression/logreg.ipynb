{
 "cells": [
  {
   "cell_type": "markdown",
   "id": "rising-contact",
   "metadata": {},
   "source": [
    "# Demo of From-scratch Logistic Regression Model\n",
    "This notebook serves as a demo of the from-scratch logistic regression class in __`logreg.py`__. \n",
    "\n",
    "The point of this notebook is not to train an accurate model, so a lot of the niceties such as data normalization, creating a validation set, feature selection/engineering etc. are ignored. We will see that the model trains and predicts well enough on a single held out set without any of these other steps, providing a baseline to build on. \n",
    "\n",
    "The data is derived from a Portugese bank's telemarketing campaign aimed at getting more term deposit subscriptions. The dependent variable we are trying to predict is a binary 'yes' or 'no' to whether or not a callee will subscribe to a term deposit."
   ]
  },
  {
   "cell_type": "code",
   "execution_count": 1,
   "id": "capable-expansion",
   "metadata": {},
   "outputs": [],
   "source": [
    "import logreg\n",
    "import numpy as np\n",
    "import pandas as pd\n",
    "\n",
    "from sklearn.preprocessing import LabelEncoder\n",
    "from sklearn.model_selection import train_test_split\n",
    "from sklearn.metrics import roc_curve, auc\n",
    "\n",
    "from imblearn.over_sampling import SMOTE\n",
    "\n",
    "import seaborn as sns\n",
    "import matplotlib.pyplot as plt\n",
    "\n",
    "import time\n",
    "\n",
    "np.random.seed(123)"
   ]
  },
  {
   "cell_type": "code",
   "execution_count": 2,
   "id": "harmful-pressure",
   "metadata": {},
   "outputs": [
    {
     "data": {
      "text/html": [
       "<div>\n",
       "<style scoped>\n",
       "    .dataframe tbody tr th:only-of-type {\n",
       "        vertical-align: middle;\n",
       "    }\n",
       "\n",
       "    .dataframe tbody tr th {\n",
       "        vertical-align: top;\n",
       "    }\n",
       "\n",
       "    .dataframe thead th {\n",
       "        text-align: right;\n",
       "    }\n",
       "</style>\n",
       "<table border=\"1\" class=\"dataframe\">\n",
       "  <thead>\n",
       "    <tr style=\"text-align: right;\">\n",
       "      <th></th>\n",
       "      <th>age</th>\n",
       "      <th>job</th>\n",
       "      <th>marital</th>\n",
       "      <th>education</th>\n",
       "      <th>default</th>\n",
       "      <th>balance</th>\n",
       "      <th>housing</th>\n",
       "      <th>loan</th>\n",
       "      <th>contact</th>\n",
       "      <th>day</th>\n",
       "      <th>month</th>\n",
       "      <th>duration</th>\n",
       "      <th>campaign</th>\n",
       "      <th>pdays</th>\n",
       "      <th>previous</th>\n",
       "      <th>poutcome</th>\n",
       "      <th>y</th>\n",
       "    </tr>\n",
       "  </thead>\n",
       "  <tbody>\n",
       "    <tr>\n",
       "      <th>0</th>\n",
       "      <td>30</td>\n",
       "      <td>unemployed</td>\n",
       "      <td>married</td>\n",
       "      <td>primary</td>\n",
       "      <td>no</td>\n",
       "      <td>1787</td>\n",
       "      <td>no</td>\n",
       "      <td>no</td>\n",
       "      <td>cellular</td>\n",
       "      <td>19</td>\n",
       "      <td>oct</td>\n",
       "      <td>79</td>\n",
       "      <td>1</td>\n",
       "      <td>-1</td>\n",
       "      <td>0</td>\n",
       "      <td>unknown</td>\n",
       "      <td>no</td>\n",
       "    </tr>\n",
       "    <tr>\n",
       "      <th>1</th>\n",
       "      <td>33</td>\n",
       "      <td>services</td>\n",
       "      <td>married</td>\n",
       "      <td>secondary</td>\n",
       "      <td>no</td>\n",
       "      <td>4789</td>\n",
       "      <td>yes</td>\n",
       "      <td>yes</td>\n",
       "      <td>cellular</td>\n",
       "      <td>11</td>\n",
       "      <td>may</td>\n",
       "      <td>220</td>\n",
       "      <td>1</td>\n",
       "      <td>339</td>\n",
       "      <td>4</td>\n",
       "      <td>failure</td>\n",
       "      <td>no</td>\n",
       "    </tr>\n",
       "    <tr>\n",
       "      <th>2</th>\n",
       "      <td>35</td>\n",
       "      <td>management</td>\n",
       "      <td>single</td>\n",
       "      <td>tertiary</td>\n",
       "      <td>no</td>\n",
       "      <td>1350</td>\n",
       "      <td>yes</td>\n",
       "      <td>no</td>\n",
       "      <td>cellular</td>\n",
       "      <td>16</td>\n",
       "      <td>apr</td>\n",
       "      <td>185</td>\n",
       "      <td>1</td>\n",
       "      <td>330</td>\n",
       "      <td>1</td>\n",
       "      <td>failure</td>\n",
       "      <td>no</td>\n",
       "    </tr>\n",
       "    <tr>\n",
       "      <th>3</th>\n",
       "      <td>30</td>\n",
       "      <td>management</td>\n",
       "      <td>married</td>\n",
       "      <td>tertiary</td>\n",
       "      <td>no</td>\n",
       "      <td>1476</td>\n",
       "      <td>yes</td>\n",
       "      <td>yes</td>\n",
       "      <td>unknown</td>\n",
       "      <td>3</td>\n",
       "      <td>jun</td>\n",
       "      <td>199</td>\n",
       "      <td>4</td>\n",
       "      <td>-1</td>\n",
       "      <td>0</td>\n",
       "      <td>unknown</td>\n",
       "      <td>no</td>\n",
       "    </tr>\n",
       "    <tr>\n",
       "      <th>4</th>\n",
       "      <td>59</td>\n",
       "      <td>blue-collar</td>\n",
       "      <td>married</td>\n",
       "      <td>secondary</td>\n",
       "      <td>no</td>\n",
       "      <td>0</td>\n",
       "      <td>yes</td>\n",
       "      <td>no</td>\n",
       "      <td>unknown</td>\n",
       "      <td>5</td>\n",
       "      <td>may</td>\n",
       "      <td>226</td>\n",
       "      <td>1</td>\n",
       "      <td>-1</td>\n",
       "      <td>0</td>\n",
       "      <td>unknown</td>\n",
       "      <td>no</td>\n",
       "    </tr>\n",
       "  </tbody>\n",
       "</table>\n",
       "</div>"
      ],
      "text/plain": [
       "   age          job  marital  education default  balance housing loan  \\\n",
       "0   30   unemployed  married    primary      no     1787      no   no   \n",
       "1   33     services  married  secondary      no     4789     yes  yes   \n",
       "2   35   management   single   tertiary      no     1350     yes   no   \n",
       "3   30   management  married   tertiary      no     1476     yes  yes   \n",
       "4   59  blue-collar  married  secondary      no        0     yes   no   \n",
       "\n",
       "    contact  day month  duration  campaign  pdays  previous poutcome   y  \n",
       "0  cellular   19   oct        79         1     -1         0  unknown  no  \n",
       "1  cellular   11   may       220         1    339         4  failure  no  \n",
       "2  cellular   16   apr       185         1    330         1  failure  no  \n",
       "3   unknown    3   jun       199         4     -1         0  unknown  no  \n",
       "4   unknown    5   may       226         1     -1         0  unknown  no  "
      ]
     },
     "execution_count": 2,
     "metadata": {},
     "output_type": "execute_result"
    }
   ],
   "source": [
    "data = pd.read_csv('../data/bank.csv', sep=';')\n",
    "data.head()"
   ]
  },
  {
   "cell_type": "code",
   "execution_count": 3,
   "id": "answering-mother",
   "metadata": {},
   "outputs": [],
   "source": [
    "# get targets\n",
    "y = data.y.apply(lambda x: 0 if x == 'no' else 1)\n",
    "data = data.drop('y', axis=1)"
   ]
  },
  {
   "cell_type": "markdown",
   "id": "revolutionary-lebanon",
   "metadata": {},
   "source": [
    "### Transform categorical data"
   ]
  },
  {
   "cell_type": "code",
   "execution_count": 4,
   "id": "secondary-smile",
   "metadata": {},
   "outputs": [],
   "source": [
    "# candidates for integer encoding (ordinal variables):\n",
    "to_label = ['education', 'month', 'housing']\n",
    "\n",
    "# candidates for one-hot encoding (nominal variables):\n",
    "to_onehot = ['job', 'loan', 'marital', 'contact', 'poutcome', 'default']\n",
    "\n",
    "# scikit-learn label encoder\n",
    "le = LabelEncoder()\n",
    "\n",
    "# get dummy and label encodings\n",
    "dummies = pd.get_dummies(data[to_onehot])\n",
    "labels = data[to_label].apply(le.fit_transform)\n",
    "\n",
    "# Convert dataframe to dummy and label encodings\n",
    "data[to_label] = labels\n",
    "data = pd.concat([data, dummies], axis=1)\n",
    "data = data.drop(to_onehot, axis=1)"
   ]
  },
  {
   "cell_type": "markdown",
   "id": "caring-heating",
   "metadata": {},
   "source": [
    "### Get target and predictor variables"
   ]
  },
  {
   "cell_type": "code",
   "execution_count": 5,
   "id": "fitting-cemetery",
   "metadata": {},
   "outputs": [
    {
     "data": {
      "image/png": "[encoded data removed]",
      "text/plain": [
       "<Figure size 432x288 with 1 Axes>"
      ]
     },
     "metadata": {
      "needs_background": "light"
     },
     "output_type": "display_data"
    },
    {
     "name": "stdout",
     "output_type": "stream",
     "text": [
      "Positive class representation: 11.52 %\n"
     ]
    }
   ],
   "source": [
    "# Get predictors and targets\n",
    "X = data.to_numpy()\n",
    "y = y.to_numpy()\n",
    "\n",
    "sns.countplot(x=y)\n",
    "plt.show()\n",
    "print(f'Positive class representation: {y.mean() * 100:.2f} %')"
   ]
  },
  {
   "cell_type": "markdown",
   "id": "proprietary-morrison",
   "metadata": {},
   "source": [
    "### Split into test/training sets\n",
    "We stratify based on target to maintain distribution of samples after split. Then, we oversample the training set in order to balance the positive class during training. "
   ]
  },
  {
   "cell_type": "code",
   "execution_count": 6,
   "id": "chinese-frame",
   "metadata": {},
   "outputs": [],
   "source": [
    "X_train, X_test, y_train, y_test = train_test_split(X, y, test_size=0.2, random_state=0, stratify=y)\n",
    "\n",
    "# positive class is under represented, so generate synthetic training data via SMOTE\n",
    "oversampler = SMOTE()\n",
    "X_smote, y_smote = oversampler.fit_resample(X_train, y_train)"
   ]
  },
  {
   "cell_type": "markdown",
   "id": "missing-victim",
   "metadata": {},
   "source": [
    "### Train model"
   ]
  },
  {
   "cell_type": "code",
   "execution_count": 7,
   "id": "metallic-pantyhose",
   "metadata": {},
   "outputs": [
    {
     "name": "stdout",
     "output_type": "stream",
     "text": [
      "Loss after 10000 epochs: 14.261364214432039\n",
      "Loss after 20000 epochs: 12.232047657499509\n",
      "Loss after 30000 epochs: 10.295895270855231\n",
      "Loss after 40000 epochs: 8.125248018054748\n",
      "Loss after 50000 epochs: 6.060295777407743\n",
      "Loss after 60000 epochs: 4.376832881133705\n",
      "Loss after 70000 epochs: 3.339308471459781\n",
      "Loss after 80000 epochs: 2.843654800964963\n",
      "Loss after 90000 epochs: 2.605671481939081\n",
      "Loss after 100000 epochs: 2.471688858196574\n",
      "Loss after 110000 epochs: 2.380872955044975\n",
      "Loss after 120000 epochs: 2.309447118870373\n",
      "Loss after 130000 epochs: 2.2477502366640643\n",
      "Loss after 140000 epochs: 2.1916871413746697\n",
      "Loss after 150000 epochs: 2.1394395981590173\n",
      "Loss after 160000 epochs: 2.0901689200427525\n",
      "Loss after 170000 epochs: 2.0434762608738923\n",
      "Loss after 180000 epochs: 1.9991630117834513\n",
      "Loss after 190000 epochs: 1.9571191853506884\n",
      "Loss after 200000 epochs: 1.9172702064806446\n",
      "\n",
      "Total training time: 158.99170470237732 sec\n"
     ]
    },
    {
     "data": {
      "image/png": "[encoded data removed]",
      "text/plain": [
       "<Figure size 432x288 with 1 Axes>"
      ]
     },
     "metadata": {
      "needs_background": "light"
     },
     "output_type": "display_data"
    }
   ],
   "source": [
    "# create logistic regression model using all variables\n",
    "regressor = logreg.BinaryLogisticRegression(X.shape[-1])\n",
    "\n",
    "# train logistic regression model\n",
    "epochs = 200000\n",
    "start = time.time()\n",
    "loss = regressor.train(X_smote, y_smote, epochs=epochs, lr=1e-6, print_every=10000)\n",
    "end = time.time()\n",
    "print(f'\\nTotal training time: {end - start} sec')\n",
    "\n",
    "# plot average loss per epoch\n",
    "sns.lineplot(x=range(epochs), y=loss)\n",
    "plt.show()"
   ]
  },
  {
   "cell_type": "code",
   "execution_count": 8,
   "id": "intermediate-status",
   "metadata": {},
   "outputs": [],
   "source": [
    "probs = regressor.infer(X_test)\n",
    "predictions = np.array([1 if p > 0.5 else 0 for p in probs])"
   ]
  },
  {
   "cell_type": "markdown",
   "id": "worldwide-barrier",
   "metadata": {},
   "source": [
    "### Calculate performance metrics\n",
    "Metrics calculated at p = 0.5 threshold. "
   ]
  },
  {
   "cell_type": "code",
   "execution_count": 9,
   "id": "naked-invalid",
   "metadata": {},
   "outputs": [],
   "source": [
    "# precision, recall, accuracy\n",
    "TP = ((y_test == predictions) & (predictions == 1)).sum()\n",
    "FP = ((predictions == 1) & (y_test == 0)).sum()\n",
    "FN = ((predictions == 0) & (y_test == 1)).sum()\n",
    "\n",
    "pre = TP / (TP + FP)\n",
    "rec = TP / (TP + FN)\n",
    "acc = acc = (y_test == predictions).mean()"
   ]
  },
  {
   "cell_type": "code",
   "execution_count": 10,
   "id": "angry-measurement",
   "metadata": {},
   "outputs": [],
   "source": [
    "fpr, tpr, thresh = roc_curve(y_test, probs, pos_label=1)\n",
    "auc_score = auc(fpr, tpr)"
   ]
  },
  {
   "cell_type": "code",
   "execution_count": 11,
   "id": "automotive-spoke",
   "metadata": {},
   "outputs": [
    {
     "data": {
      "image/png": "[encoded data removed]",
      "text/plain": [
       "<Figure size 432x288 with 1 Axes>"
      ]
     },
     "metadata": {
      "needs_background": "light"
     },
     "output_type": "display_data"
    },
    {
     "name": "stdout",
     "output_type": "stream",
     "text": [
      "Precisison: 0.14398422090729784\n",
      "Recall: 0.7019230769230769\n",
      "Accuracy: 0.4861878453038674\n"
     ]
    }
   ],
   "source": [
    "sns.lineplot(x=fpr, y=tpr)\n",
    "sns.lineplot(x=[0, 1], y=[0, 1], linestyle='--')\n",
    "plt.title('ROC Plot')\n",
    "plt.xlabel('False Positive Rate')\n",
    "plt.ylabel('True Positive Rate')\n",
    "plt.legend([f'AUC: {auc_score: .2f}'])\n",
    "plt.show()\n",
    "\n",
    "print(f'Precisison: {pre}\\nRecall: {rec}\\nAccuracy: {acc}')"
   ]
  },
  {
   "cell_type": "markdown",
   "id": "falling-professional",
   "metadata": {},
   "source": [
    "# Summary\n",
    "\n",
    "Again, this was just meant to demo that the model works. However to summarize the results: \n",
    "\n",
    "It looks like there is a relatively high false positive rate (accuracy at 0.48, yet recall is at 0.7). __Recall__ is probably what we care more about in the context of telemarketing, as the long term financial gain from obtaining a new customer outweights the cost of 5 minutes on the phone that might be wasted if they a customer says no. \n",
    "\n",
    "So, we get a pretty good baseline from this hand-coded model. "
   ]
  },
  {
   "cell_type": "code",
   "execution_count": null,
   "id": "approximate-behavior",
   "metadata": {},
   "outputs": [],
   "source": []
  }
 ],
 "metadata": {
  "kernelspec": {
   "display_name": "Python [conda env:general-ml] *",
   "language": "python",
   "name": "conda-env-general-ml-py"
  },
  "language_info": {
   "codemirror_mode": {
    "name": "ipython",
    "version": 3
   },
   "file_extension": ".py",
   "mimetype": "text/x-python",
   "name": "python",
   "nbconvert_exporter": "python",
   "pygments_lexer": "ipython3",
   "version": "3.8.0"
  }
 },
 "nbformat": 4,
 "nbformat_minor": 5
}
