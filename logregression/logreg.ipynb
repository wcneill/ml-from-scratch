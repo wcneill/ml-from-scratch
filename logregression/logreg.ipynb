{
 "cells": [
  {
   "cell_type": "markdown",
   "id": "linear-trustee",
   "metadata": {},
   "source": [
    "# Demo of From-scratch Logistic Regression Model\n",
    "This notebook serves as a demo of the logistic regression class in `logreg.py`. The data is derived from a Portugese bank's telemarketing campaign aimed at getting more term deposit subscriptions. They dependent variable we are trying to predict is a binary 'yes' or 'no' to whether or not a callee will subscribe to a term deposit.\n",
    "\n",
    "Since the main purpose is to show that the from-scratch logreg class trains well and functions to make predictions, many of the niceties of data processing are skipped here (for example, data is un-normalized). "
   ]
  },
  {
   "cell_type": "code",
   "execution_count": 1,
   "id": "charitable-karma",
   "metadata": {},
   "outputs": [],
   "source": [
    "import logreg\n",
    "import numpy as np\n",
    "import pandas as pd\n",
    "\n",
    "from sklearn.preprocessing import LabelEncoder\n",
    "from sklearn.model_selection import train_test_split\n",
    "from imblearn.over_sampling import SMOTE\n",
    "\n",
    "import seaborn as sns\n",
    "import matplotlib.pyplot as plt\n",
    "\n",
    "import time\n",
    "\n",
    "np.random.seed(123)"
   ]
  },
  {
   "cell_type": "code",
   "execution_count": 2,
   "id": "employed-burning",
   "metadata": {},
   "outputs": [
    {
     "data": {
      "text/html": [
       "<div>\n",
       "<style scoped>\n",
       "    .dataframe tbody tr th:only-of-type {\n",
       "        vertical-align: middle;\n",
       "    }\n",
       "\n",
       "    .dataframe tbody tr th {\n",
       "        vertical-align: top;\n",
       "    }\n",
       "\n",
       "    .dataframe thead th {\n",
       "        text-align: right;\n",
       "    }\n",
       "</style>\n",
       "<table border=\"1\" class=\"dataframe\">\n",
       "  <thead>\n",
       "    <tr style=\"text-align: right;\">\n",
       "      <th></th>\n",
       "      <th>age</th>\n",
       "      <th>job</th>\n",
       "      <th>marital</th>\n",
       "      <th>education</th>\n",
       "      <th>default</th>\n",
       "      <th>balance</th>\n",
       "      <th>housing</th>\n",
       "      <th>loan</th>\n",
       "      <th>contact</th>\n",
       "      <th>day</th>\n",
       "      <th>month</th>\n",
       "      <th>duration</th>\n",
       "      <th>campaign</th>\n",
       "      <th>pdays</th>\n",
       "      <th>previous</th>\n",
       "      <th>poutcome</th>\n",
       "      <th>y</th>\n",
       "    </tr>\n",
       "  </thead>\n",
       "  <tbody>\n",
       "    <tr>\n",
       "      <th>0</th>\n",
       "      <td>30</td>\n",
       "      <td>unemployed</td>\n",
       "      <td>married</td>\n",
       "      <td>primary</td>\n",
       "      <td>no</td>\n",
       "      <td>1787</td>\n",
       "      <td>no</td>\n",
       "      <td>no</td>\n",
       "      <td>cellular</td>\n",
       "      <td>19</td>\n",
       "      <td>oct</td>\n",
       "      <td>79</td>\n",
       "      <td>1</td>\n",
       "      <td>-1</td>\n",
       "      <td>0</td>\n",
       "      <td>unknown</td>\n",
       "      <td>no</td>\n",
       "    </tr>\n",
       "    <tr>\n",
       "      <th>1</th>\n",
       "      <td>33</td>\n",
       "      <td>services</td>\n",
       "      <td>married</td>\n",
       "      <td>secondary</td>\n",
       "      <td>no</td>\n",
       "      <td>4789</td>\n",
       "      <td>yes</td>\n",
       "      <td>yes</td>\n",
       "      <td>cellular</td>\n",
       "      <td>11</td>\n",
       "      <td>may</td>\n",
       "      <td>220</td>\n",
       "      <td>1</td>\n",
       "      <td>339</td>\n",
       "      <td>4</td>\n",
       "      <td>failure</td>\n",
       "      <td>no</td>\n",
       "    </tr>\n",
       "    <tr>\n",
       "      <th>2</th>\n",
       "      <td>35</td>\n",
       "      <td>management</td>\n",
       "      <td>single</td>\n",
       "      <td>tertiary</td>\n",
       "      <td>no</td>\n",
       "      <td>1350</td>\n",
       "      <td>yes</td>\n",
       "      <td>no</td>\n",
       "      <td>cellular</td>\n",
       "      <td>16</td>\n",
       "      <td>apr</td>\n",
       "      <td>185</td>\n",
       "      <td>1</td>\n",
       "      <td>330</td>\n",
       "      <td>1</td>\n",
       "      <td>failure</td>\n",
       "      <td>no</td>\n",
       "    </tr>\n",
       "    <tr>\n",
       "      <th>3</th>\n",
       "      <td>30</td>\n",
       "      <td>management</td>\n",
       "      <td>married</td>\n",
       "      <td>tertiary</td>\n",
       "      <td>no</td>\n",
       "      <td>1476</td>\n",
       "      <td>yes</td>\n",
       "      <td>yes</td>\n",
       "      <td>unknown</td>\n",
       "      <td>3</td>\n",
       "      <td>jun</td>\n",
       "      <td>199</td>\n",
       "      <td>4</td>\n",
       "      <td>-1</td>\n",
       "      <td>0</td>\n",
       "      <td>unknown</td>\n",
       "      <td>no</td>\n",
       "    </tr>\n",
       "    <tr>\n",
       "      <th>4</th>\n",
       "      <td>59</td>\n",
       "      <td>blue-collar</td>\n",
       "      <td>married</td>\n",
       "      <td>secondary</td>\n",
       "      <td>no</td>\n",
       "      <td>0</td>\n",
       "      <td>yes</td>\n",
       "      <td>no</td>\n",
       "      <td>unknown</td>\n",
       "      <td>5</td>\n",
       "      <td>may</td>\n",
       "      <td>226</td>\n",
       "      <td>1</td>\n",
       "      <td>-1</td>\n",
       "      <td>0</td>\n",
       "      <td>unknown</td>\n",
       "      <td>no</td>\n",
       "    </tr>\n",
       "  </tbody>\n",
       "</table>\n",
       "</div>"
      ],
      "text/plain": [
       "   age          job  marital  education default  balance housing loan  \\\n",
       "0   30   unemployed  married    primary      no     1787      no   no   \n",
       "1   33     services  married  secondary      no     4789     yes  yes   \n",
       "2   35   management   single   tertiary      no     1350     yes   no   \n",
       "3   30   management  married   tertiary      no     1476     yes  yes   \n",
       "4   59  blue-collar  married  secondary      no        0     yes   no   \n",
       "\n",
       "    contact  day month  duration  campaign  pdays  previous poutcome   y  \n",
       "0  cellular   19   oct        79         1     -1         0  unknown  no  \n",
       "1  cellular   11   may       220         1    339         4  failure  no  \n",
       "2  cellular   16   apr       185         1    330         1  failure  no  \n",
       "3   unknown    3   jun       199         4     -1         0  unknown  no  \n",
       "4   unknown    5   may       226         1     -1         0  unknown  no  "
      ]
     },
     "execution_count": 2,
     "metadata": {},
     "output_type": "execute_result"
    }
   ],
   "source": [
    "data = pd.read_csv('../data/bank.csv', sep=';')\n",
    "data.head()"
   ]
  },
  {
   "cell_type": "code",
   "execution_count": 3,
   "id": "posted-pioneer",
   "metadata": {},
   "outputs": [],
   "source": [
    "# get targets\n",
    "y = data.y.apply(lambda x: 0 if x == 'no' else 1)\n",
    "data = data.drop('y', axis=1)"
   ]
  },
  {
   "cell_type": "markdown",
   "id": "metropolitan-surgeon",
   "metadata": {},
   "source": [
    "### Transform categorical data"
   ]
  },
  {
   "cell_type": "code",
   "execution_count": 4,
   "id": "forward-divide",
   "metadata": {},
   "outputs": [],
   "source": [
    "# candidates for integer encoding (ordinal variables):\n",
    "to_label = ['education', 'month', 'housing']\n",
    "\n",
    "# candidates for one-hot encoding (nominal variables):\n",
    "to_onehot = ['job', 'loan', 'marital', 'contact', 'poutcome', 'default']\n",
    "\n",
    "# scikit-learn label encoder\n",
    "le = LabelEncoder()\n",
    "\n",
    "# get dummy and label encodings\n",
    "dummies = pd.get_dummies(data[to_onehot])\n",
    "labels = data[to_label].apply(le.fit_transform)\n",
    "\n",
    "# Convert dataframe to dummy and label encodings\n",
    "data[to_label] = labels\n",
    "data = pd.concat([data, dummies], axis=1)\n",
    "data = data.drop(to_onehot, axis=1)"
   ]
  },
  {
   "cell_type": "markdown",
   "id": "female-straight",
   "metadata": {},
   "source": [
    "### Get target and predictor variables"
   ]
  },
  {
   "cell_type": "code",
   "execution_count": 5,
   "id": "favorite-services",
   "metadata": {},
   "outputs": [
    {
     "data": {
      "image/png": "[encoded data removed]",
      "text/plain": [
       "<Figure size 432x288 with 1 Axes>"
      ]
     },
     "metadata": {
      "needs_background": "light"
     },
     "output_type": "display_data"
    },
    {
     "name": "stdout",
     "output_type": "stream",
     "text": [
      "Positive class representation: 11.52 %\n"
     ]
    }
   ],
   "source": [
    "# Get predictors and targets\n",
    "X = data.to_numpy()\n",
    "y = y.to_numpy()\n",
    "\n",
    "sns.countplot(x=y)\n",
    "plt.show()\n",
    "print(f'Positive class representation: {y.mean() * 100:.2f} %')"
   ]
  },
  {
   "cell_type": "code",
   "execution_count": 6,
   "id": "european-unemployment",
   "metadata": {},
   "outputs": [],
   "source": [
    "# positive class is under represented, but oversampling decreases performance. Uncomment to see.\n",
    "# oversampler = SMOTE()\n",
    "# X, y = oversampler.fit_resample(X, y)"
   ]
  },
  {
   "cell_type": "code",
   "execution_count": 7,
   "id": "ecological-hungary",
   "metadata": {},
   "outputs": [],
   "source": [
    "# split into test/training sets\n",
    "X_train, X_test, y_train, y_test = train_test_split(X, y, test_size=0.2, random_state=0)"
   ]
  },
  {
   "cell_type": "code",
   "execution_count": 8,
   "id": "laughing-carbon",
   "metadata": {},
   "outputs": [
    {
     "name": "stdout",
     "output_type": "stream",
     "text": [
      "Loss after 1000 epochs: 12.927017746334364\n",
      "Loss after 2000 epochs: 9.798793978733542\n",
      "Loss after 3000 epochs: 7.8971317717669365\n",
      "Loss after 4000 epochs: 6.06793655292958\n",
      "Loss after 5000 epochs: 4.107289552248196\n",
      "Loss after 6000 epochs: 2.456369591183136\n",
      "Loss after 7000 epochs: 1.5753031953946204\n",
      "Loss after 8000 epochs: 1.2096348132120067\n",
      "Loss after 9000 epochs: 1.0672940395379216\n",
      "Loss after 10000 epochs: 0.9975542992491369\n",
      "Loss after 11000 epochs: 0.9446995634642684\n",
      "Loss after 12000 epochs: 0.92183746702779\n",
      "Loss after 13000 epochs: 0.9033104256766613\n",
      "Loss after 14000 epochs: 1.011236563702337\n",
      "Loss after 15000 epochs: 0.8679377743007934\n",
      "Loss after 16000 epochs: 0.8890901271862601\n",
      "total training time: 7.399847030639648 sec\n"
     ]
    },
    {
     "data": {
      "image/png": "[encoded data removed]",
      "text/plain": [
       "<Figure size 432x288 with 1 Axes>"
      ]
     },
     "metadata": {
      "needs_background": "light"
     },
     "output_type": "display_data"
    }
   ],
   "source": [
    "# create logistic regression model using all variables\n",
    "regressor = logreg.BinaryLogisticRegression(X.shape[-1])\n",
    "\n",
    "# train logistic regression model\n",
    "epochs = 16000\n",
    "start = time.time()\n",
    "loss = regressor.train(X_train, y_train, epochs=epochs, lr=1e-5, print_every=1000)\n",
    "end = time.time()\n",
    "print(f'total training time: {end - start} sec')\n",
    "\n",
    "# plot average loss per epoch\n",
    "sns.lineplot(x=range(epochs), y=loss)\n",
    "plt.show()"
   ]
  },
  {
   "cell_type": "code",
   "execution_count": 9,
   "id": "thorough-airport",
   "metadata": {},
   "outputs": [],
   "source": [
    "y_hat = regressor.infer(X_test)\n",
    "prediction = [1 if y > 0.5 else 0 for y in y_hat]"
   ]
  },
  {
   "cell_type": "code",
   "execution_count": 10,
   "id": "processed-confidentiality",
   "metadata": {},
   "outputs": [
    {
     "data": {
      "text/plain": [
       "0.8486187845303867"
      ]
     },
     "execution_count": 10,
     "metadata": {},
     "output_type": "execute_result"
    }
   ],
   "source": [
    "# accuracy: \n",
    "(y_test == prediction).mean()"
   ]
  }
 ],
 "metadata": {
  "kernelspec": {
   "display_name": "Python [conda env:general-ml] *",
   "language": "python",
   "name": "conda-env-general-ml-py"
  },
  "language_info": {
   "codemirror_mode": {
    "name": "ipython",
    "version": 3
   },
   "file_extension": ".py",
   "mimetype": "text/x-python",
   "name": "python",
   "nbconvert_exporter": "python",
   "pygments_lexer": "ipython3",
   "version": "3.8.0"
  }
 },
 "nbformat": 4,
 "nbformat_minor": 5
}
