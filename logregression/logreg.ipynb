{
 "cells": [
  {
   "cell_type": "markdown",
   "id": "electoral-crisis",
   "metadata": {},
   "source": [
    "# Demo of From-scratch Logistic Regression Model\n",
    "This notebook serves as a demo of the from-scratch logistic regression class in __`logreg.py`__. \n",
    "\n",
    "The point of this notebook is not to train an accurate model, so a lot of the niceties such as data normalization, creating a validation set, feature selection/engineering etc. are ignored. We will see that the model trains and predicts well enough on a single held out set without any of these other steps. \n",
    "\n",
    "The data is derived from a Portugese bank's telemarketing campaign aimed at getting more term deposit subscriptions. The dependent variable we are trying to predict is a binary 'yes' or 'no' to whether or not a callee will subscribe to a term deposit."
   ]
  },
  {
   "cell_type": "code",
   "execution_count": 1,
   "id": "realistic-reset",
   "metadata": {},
   "outputs": [],
   "source": [
    "import logreg\n",
    "import numpy as np\n",
    "import pandas as pd\n",
    "\n",
    "from sklearn.preprocessing import LabelEncoder\n",
    "from sklearn.model_selection import train_test_split\n",
    "from sklearn.metrics import roc_curve, auc\n",
    "\n",
    "from imblearn.over_sampling import SMOTE\n",
    "\n",
    "import seaborn as sns\n",
    "import matplotlib.pyplot as plt\n",
    "\n",
    "import time\n",
    "\n",
    "np.random.seed(123)"
   ]
  },
  {
   "cell_type": "code",
   "execution_count": 2,
   "id": "floating-metadata",
   "metadata": {},
   "outputs": [
    {
     "data": {
      "text/html": [
       "<div>\n",
       "<style scoped>\n",
       "    .dataframe tbody tr th:only-of-type {\n",
       "        vertical-align: middle;\n",
       "    }\n",
       "\n",
       "    .dataframe tbody tr th {\n",
       "        vertical-align: top;\n",
       "    }\n",
       "\n",
       "    .dataframe thead th {\n",
       "        text-align: right;\n",
       "    }\n",
       "</style>\n",
       "<table border=\"1\" class=\"dataframe\">\n",
       "  <thead>\n",
       "    <tr style=\"text-align: right;\">\n",
       "      <th></th>\n",
       "      <th>age</th>\n",
       "      <th>job</th>\n",
       "      <th>marital</th>\n",
       "      <th>education</th>\n",
       "      <th>default</th>\n",
       "      <th>balance</th>\n",
       "      <th>housing</th>\n",
       "      <th>loan</th>\n",
       "      <th>contact</th>\n",
       "      <th>day</th>\n",
       "      <th>month</th>\n",
       "      <th>duration</th>\n",
       "      <th>campaign</th>\n",
       "      <th>pdays</th>\n",
       "      <th>previous</th>\n",
       "      <th>poutcome</th>\n",
       "      <th>y</th>\n",
       "    </tr>\n",
       "  </thead>\n",
       "  <tbody>\n",
       "    <tr>\n",
       "      <th>0</th>\n",
       "      <td>30</td>\n",
       "      <td>unemployed</td>\n",
       "      <td>married</td>\n",
       "      <td>primary</td>\n",
       "      <td>no</td>\n",
       "      <td>1787</td>\n",
       "      <td>no</td>\n",
       "      <td>no</td>\n",
       "      <td>cellular</td>\n",
       "      <td>19</td>\n",
       "      <td>oct</td>\n",
       "      <td>79</td>\n",
       "      <td>1</td>\n",
       "      <td>-1</td>\n",
       "      <td>0</td>\n",
       "      <td>unknown</td>\n",
       "      <td>no</td>\n",
       "    </tr>\n",
       "    <tr>\n",
       "      <th>1</th>\n",
       "      <td>33</td>\n",
       "      <td>services</td>\n",
       "      <td>married</td>\n",
       "      <td>secondary</td>\n",
       "      <td>no</td>\n",
       "      <td>4789</td>\n",
       "      <td>yes</td>\n",
       "      <td>yes</td>\n",
       "      <td>cellular</td>\n",
       "      <td>11</td>\n",
       "      <td>may</td>\n",
       "      <td>220</td>\n",
       "      <td>1</td>\n",
       "      <td>339</td>\n",
       "      <td>4</td>\n",
       "      <td>failure</td>\n",
       "      <td>no</td>\n",
       "    </tr>\n",
       "    <tr>\n",
       "      <th>2</th>\n",
       "      <td>35</td>\n",
       "      <td>management</td>\n",
       "      <td>single</td>\n",
       "      <td>tertiary</td>\n",
       "      <td>no</td>\n",
       "      <td>1350</td>\n",
       "      <td>yes</td>\n",
       "      <td>no</td>\n",
       "      <td>cellular</td>\n",
       "      <td>16</td>\n",
       "      <td>apr</td>\n",
       "      <td>185</td>\n",
       "      <td>1</td>\n",
       "      <td>330</td>\n",
       "      <td>1</td>\n",
       "      <td>failure</td>\n",
       "      <td>no</td>\n",
       "    </tr>\n",
       "    <tr>\n",
       "      <th>3</th>\n",
       "      <td>30</td>\n",
       "      <td>management</td>\n",
       "      <td>married</td>\n",
       "      <td>tertiary</td>\n",
       "      <td>no</td>\n",
       "      <td>1476</td>\n",
       "      <td>yes</td>\n",
       "      <td>yes</td>\n",
       "      <td>unknown</td>\n",
       "      <td>3</td>\n",
       "      <td>jun</td>\n",
       "      <td>199</td>\n",
       "      <td>4</td>\n",
       "      <td>-1</td>\n",
       "      <td>0</td>\n",
       "      <td>unknown</td>\n",
       "      <td>no</td>\n",
       "    </tr>\n",
       "    <tr>\n",
       "      <th>4</th>\n",
       "      <td>59</td>\n",
       "      <td>blue-collar</td>\n",
       "      <td>married</td>\n",
       "      <td>secondary</td>\n",
       "      <td>no</td>\n",
       "      <td>0</td>\n",
       "      <td>yes</td>\n",
       "      <td>no</td>\n",
       "      <td>unknown</td>\n",
       "      <td>5</td>\n",
       "      <td>may</td>\n",
       "      <td>226</td>\n",
       "      <td>1</td>\n",
       "      <td>-1</td>\n",
       "      <td>0</td>\n",
       "      <td>unknown</td>\n",
       "      <td>no</td>\n",
       "    </tr>\n",
       "  </tbody>\n",
       "</table>\n",
       "</div>"
      ],
      "text/plain": [
       "   age          job  marital  education default  balance housing loan  \\\n",
       "0   30   unemployed  married    primary      no     1787      no   no   \n",
       "1   33     services  married  secondary      no     4789     yes  yes   \n",
       "2   35   management   single   tertiary      no     1350     yes   no   \n",
       "3   30   management  married   tertiary      no     1476     yes  yes   \n",
       "4   59  blue-collar  married  secondary      no        0     yes   no   \n",
       "\n",
       "    contact  day month  duration  campaign  pdays  previous poutcome   y  \n",
       "0  cellular   19   oct        79         1     -1         0  unknown  no  \n",
       "1  cellular   11   may       220         1    339         4  failure  no  \n",
       "2  cellular   16   apr       185         1    330         1  failure  no  \n",
       "3   unknown    3   jun       199         4     -1         0  unknown  no  \n",
       "4   unknown    5   may       226         1     -1         0  unknown  no  "
      ]
     },
     "execution_count": 2,
     "metadata": {},
     "output_type": "execute_result"
    }
   ],
   "source": [
    "data = pd.read_csv('../data/bank.csv', sep=';')\n",
    "data.head()"
   ]
  },
  {
   "cell_type": "code",
   "execution_count": 3,
   "id": "forward-network",
   "metadata": {},
   "outputs": [],
   "source": [
    "# get targets\n",
    "y = data.y.apply(lambda x: 0 if x == 'no' else 1)\n",
    "data = data.drop('y', axis=1)"
   ]
  },
  {
   "cell_type": "markdown",
   "id": "classical-artwork",
   "metadata": {},
   "source": [
    "### Transform categorical data"
   ]
  },
  {
   "cell_type": "code",
   "execution_count": 4,
   "id": "analyzed-boring",
   "metadata": {},
   "outputs": [],
   "source": [
    "# candidates for integer encoding (ordinal variables):\n",
    "to_label = ['education', 'month', 'housing']\n",
    "\n",
    "# candidates for one-hot encoding (nominal variables):\n",
    "to_onehot = ['job', 'loan', 'marital', 'contact', 'poutcome', 'default']\n",
    "\n",
    "# scikit-learn label encoder\n",
    "le = LabelEncoder()\n",
    "\n",
    "# get dummy and label encodings\n",
    "dummies = pd.get_dummies(data[to_onehot])\n",
    "labels = data[to_label].apply(le.fit_transform)\n",
    "\n",
    "# Convert dataframe to dummy and label encodings\n",
    "data[to_label] = labels\n",
    "data = pd.concat([data, dummies], axis=1)\n",
    "data = data.drop(to_onehot, axis=1)"
   ]
  },
  {
   "cell_type": "markdown",
   "id": "cordless-optics",
   "metadata": {},
   "source": [
    "### Get target and predictor variables"
   ]
  },
  {
   "cell_type": "code",
   "execution_count": 5,
   "id": "federal-ukraine",
   "metadata": {},
   "outputs": [
    {
     "data": {
      "image/png": "[encoded data removed]",
      "text/plain": [
       "<Figure size 432x288 with 1 Axes>"
      ]
     },
     "metadata": {
      "needs_background": "light"
     },
     "output_type": "display_data"
    },
    {
     "name": "stdout",
     "output_type": "stream",
     "text": [
      "Positive class representation: 11.52 %\n"
     ]
    }
   ],
   "source": [
    "# Get predictors and targets\n",
    "X = data.to_numpy()\n",
    "y = y.to_numpy()\n",
    "\n",
    "sns.countplot(x=y)\n",
    "plt.show()\n",
    "print(f'Positive class representation: {y.mean() * 100:.2f} %')"
   ]
  },
  {
   "cell_type": "markdown",
   "id": "brown-minute",
   "metadata": {},
   "source": [
    "### Split into test/training sets\n",
    "We stratify based on target to maintain distribution of samples after split. Then, we oversample the training set in order to balance the positive class during training. "
   ]
  },
  {
   "cell_type": "code",
   "execution_count": 6,
   "id": "increasing-hollow",
   "metadata": {},
   "outputs": [],
   "source": [
    "X_train, X_test, y_train, y_test = train_test_split(X, y, test_size=0.2, random_state=0, stratify=y)\n",
    "\n",
    "# positive class is under represented, so generate synthetic training data via SMOTE\n",
    "oversampler = SMOTE()\n",
    "X_smote, y_smote = oversampler.fit_resample(X_train, y_train)"
   ]
  },
  {
   "cell_type": "markdown",
   "id": "administrative-tuesday",
   "metadata": {},
   "source": [
    "### Train model"
   ]
  },
  {
   "cell_type": "code",
   "execution_count": 7,
   "id": "alleged-socket",
   "metadata": {},
   "outputs": [
    {
     "name": "stdout",
     "output_type": "stream",
     "text": [
      "Loss after 10000 epochs: 6.061110628818817\n",
      "Loss after 20000 epochs: 2.6608690160265693\n",
      "Loss after 30000 epochs: 2.383138369042214\n",
      "Loss after 40000 epochs: 2.2580367856861114\n",
      "Loss after 50000 epochs: 2.171491419147301\n",
      "Loss after 60000 epochs: 2.1103535064319288\n",
      "Loss after 70000 epochs: 2.06623286647642\n",
      "Loss after 80000 epochs: 2.0322966549757457\n",
      "Loss after 90000 epochs: 2.004428910641235\n",
      "Loss after 100000 epochs: 1.9806391421459153\n",
      "\n",
      "Total training time: 79.36162209510803 sec\n"
     ]
    },
    {
     "data": {
      "image/png": "[encoded data removed]",
      "text/plain": [
       "<Figure size 432x288 with 1 Axes>"
      ]
     },
     "metadata": {
      "needs_background": "light"
     },
     "output_type": "display_data"
    }
   ],
   "source": [
    "# create logistic regression model using all variables\n",
    "regressor = logreg.BinaryLogisticRegression(X.shape[-1])\n",
    "\n",
    "# train logistic regression model\n",
    "epochs = 100000\n",
    "start = time.time()\n",
    "loss = regressor.train(X_smote, y_smote, epochs=epochs, lr=5e-6, print_every=10000)\n",
    "end = time.time()\n",
    "print(f'\\nTotal training time: {end - start} sec')\n",
    "\n",
    "# plot average loss per epoch\n",
    "sns.lineplot(x=range(epochs), y=loss)\n",
    "plt.show()"
   ]
  },
  {
   "cell_type": "code",
   "execution_count": 8,
   "id": "intelligent-seeking",
   "metadata": {},
   "outputs": [],
   "source": [
    "probs = regressor.infer(X_test)\n",
    "predictions = [1 if p > 0.5 else 0 for p in probs]"
   ]
  },
  {
   "cell_type": "code",
   "execution_count": 9,
   "id": "underlying-third",
   "metadata": {},
   "outputs": [
    {
     "data": {
      "text/plain": [
       "0.6397790055248619"
      ]
     },
     "execution_count": 9,
     "metadata": {},
     "output_type": "execute_result"
    }
   ],
   "source": [
    "# accuracy: \n",
    "(y_test == predictions).mean()"
   ]
  },
  {
   "cell_type": "code",
   "execution_count": 10,
   "id": "capital-ottawa",
   "metadata": {},
   "outputs": [],
   "source": [
    "fpr, tpr, thresh = roc_curve(y_test, probs, pos_label=1)\n",
    "auc_score = auc(fpr, tpr)"
   ]
  },
  {
   "cell_type": "code",
   "execution_count": 11,
   "id": "studied-victim",
   "metadata": {},
   "outputs": [
    {
     "data": {
      "image/png": "[encoded data removed]",
      "text/plain": [
       "<Figure size 432x288 with 1 Axes>"
      ]
     },
     "metadata": {
      "needs_background": "light"
     },
     "output_type": "display_data"
    }
   ],
   "source": [
    "sns.lineplot(x=fpr, y=tpr)\n",
    "sns.lineplot(x=[0, 1], y=[0, 1], linestyle='--')\n",
    "plt.title('ROC Plot')\n",
    "plt.xlabel('False Positive Rate')\n",
    "plt.ylabel('True Positive Rate')\n",
    "plt.legend([f'AUC: {auc_score: .2f}']);"
   ]
  },
  {
   "cell_type": "code",
   "execution_count": null,
   "id": "accepting-humidity",
   "metadata": {},
   "outputs": [],
   "source": []
  }
 ],
 "metadata": {
  "kernelspec": {
   "display_name": "Python [conda env:general-ml] *",
   "language": "python",
   "name": "conda-env-general-ml-py"
  },
  "language_info": {
   "codemirror_mode": {
    "name": "ipython",
    "version": 3
   },
   "file_extension": ".py",
   "mimetype": "text/x-python",
   "name": "python",
   "nbconvert_exporter": "python",
   "pygments_lexer": "ipython3",
   "version": "3.8.0"
  }
 },
 "nbformat": 4,
 "nbformat_minor": 5
}
